{
 "cells": [
  {
   "cell_type": "markdown",
   "id": "b31ecc9f-600f-47aa-a6e2-e48c64cbc827",
   "metadata": {},
   "source": [
    "<h1><center>Recombination</center></h1>\n",
    "\n",
    "For around the first 370,000 years the universe was filled with a hot \"soup\" of subatomic particles. When protons and elections combined to form a neutral hydrogen atom, they would quickly absorb a high energy photon and be torn apart again. The mean free path of photons was extremely small as they were constantly scattering off of free electrons. As a result, the universe was opaque to electromagnetic radiation. \n",
    "\n",
    "The main reaction during this period\n",
    "\n",
    "\\begin{equation}\n",
    "    p + e^- \\longleftrightarrow H + \\gamma,\n",
    "\\end{equation}\n",
    "\n",
    "occurred rapidly enough to be in near thermal equilibrium. We can therefore model their relative abundances using the Saha equation\n",
    "\n",
    "\\begin{equation}\n",
    "    \\frac{n_p n_e}{n_{H}} = c^3\\left( \\frac{m_e k_{B} T}{2 \\pi \\hbar^2} \\right)^{3/2}\\exp{\\left(-\\frac{E_{I}}{k_{B} T} \\right)},\n",
    "    \\label{eq:saha1}\n",
    "\\end{equation}\n",
    "\n",
    "where $n_p$, $n_e$ and $n_{H}$ are the number densities of protons, elections and hydrogen respectfully, $m_e$ is the electron mass, $T$ is the temperature of the universe and $E_{I} = 13.6$eV is the ionisation energy of hydrogen. \n",
    "\n",
    "Assuming the universe is neutral ($n_p = n_e$) the relative abundance of free elections and ionised hydrogen is given by\n",
    "\n",
    "\\begin{equation}\n",
    "    x_e = x_p = \\frac{n_e}{n_p+n_{H}}.\n",
    "\\end{equation}\n",
    "\n",
    "We can use this to rewrite the Saha equation as\n",
    "\\begin{equation}\n",
    "    \\frac{x_e^2}{1-x_e} = \\frac{c^3}{n_p+n_{H}}\\left( \\frac{m_e k_{B} T}{2 \\pi \\hbar^2} \\right)^{3/2}\\exp{\\left(-\\frac{E_{I}}{k_{B} T} \\right)}.\n",
    "    \\label{eq:saha2}\n",
    "\\end{equation}\n",
    "\n",
    "The combined number density of protons and hydrogen today is around $1.6$m$^{-3}$. Therefore, we since the length scales of the universe grow as $(1+z)^{-1}$ we know that\n",
    "\n",
    "\\begin{equation}\n",
    "    n_p+n_{H} = 1.6 (1+z)^3 \\text{ m}^{-3}.\n",
    "    \\label{eq:recom1}\n",
    "\\end{equation}\n",
    "\n",
    "Additionally, we know that the temperature of the universe today is around 2.728K. During matter-domination, the temperature evolves as $\\sim (1+z)$. Therefore, we can write that\n",
    "\n",
    "\\begin{equation}\n",
    "    T = 2.728 (1+z) \\text{ K}.\n",
    "    \\label{eq:recom2}\n",
    "\\end{equation}\n",
    "\n",
    "We can therefore solve the Saha for $x_e$ over time."
   ]
  },
  {
   "cell_type": "code",
   "execution_count": 4,
   "id": "31c37fd1-6a18-4f78-9c42-3bf75032ae63",
   "metadata": {},
   "outputs": [],
   "source": [
    "import numpy as np\n",
    "import matplotlib.pyplot as plt\n",
    "from scipy.optimize import root\n",
    "\n",
    "# Plotting style\n",
    "import matplotlib\n",
    "matplotlib.rcParams['mathtext.fontset'] = 'stix'\n",
    "matplotlib.rcParams['font.family'] = 'STIXGeneral'\n",
    "matplotlib.rc('font', size=18)\n",
    "\n",
    "import matplotlib.patheffects as pe\n",
    "path_effects=[pe.Stroke(linewidth=5, foreground='k'), pe.Normal(), \n",
    "              pe.SimpleLineShadow(alpha = 0.1, offset=(1.5,-1.5))]"
   ]
  },
  {
   "cell_type": "code",
   "execution_count": 5,
   "id": "896d5347-4dbe-4127-a802-6e816f45f971",
   "metadata": {},
   "outputs": [],
   "source": [
    "kB = 8.61e-5 #eV/K\n",
    "me = 0.510e6 #eV \n",
    "hbar = 6.58e-16\n",
    "EI = 13.6 # eV\n",
    "c = 299792458 #m/s\n",
    "\n",
    "def TkB(z):\n",
    "    return 2.728*kB*(1+z)\n",
    "\n",
    "def nHnP(z):\n",
    "    return 1.6*(1+z)**3\n",
    "\n",
    "def solve(xe, z):\n",
    "    A = xe**2/(1-xe)\n",
    "    B = nHnP(z)**(-1)\n",
    "    C = (me*TkB(z)/(2*np.pi*hbar**2))**(3/2)\n",
    "    D = np.exp(-EI/TkB(z))\n",
    "    return A - B*C*D/c**3\n",
    "\n",
    "def saha(z):\n",
    "    x_e = root(solve, x0 = 0.99999, args=(z)).x[0]\n",
    "    return x_e"
   ]
  },
  {
   "cell_type": "code",
   "execution_count": 6,
   "id": "d03a2bcb-3bb4-4576-8b2b-7fc94b57f19a",
   "metadata": {},
   "outputs": [
    {
     "data": {
      "image/png": "[encoded data removed]",
      "text/plain": [
       "<Figure size 576x288 with 1 Axes>"
      ]
     },
     "metadata": {
      "needs_background": "light"
     },
     "output_type": "display_data"
    }
   ],
   "source": [
    "z = np.linspace(2000, 800, 1000)\n",
    "\n",
    "x_e = np.array([saha(zi) for zi in z])\n",
    "\n",
    "plt.figure(figsize = (8, 4))\n",
    "plt.plot(z, x_e, lw=3, path_effects = path_effects, color = \"tab:red\")\n",
    "\n",
    "#plt.plot([max(z), min(z)], [max(x_e)/2, max(x_e)/2], \"k--\")\n",
    "#plt.plot([zre, zre], [-0.03, 1.03], \"k--\")\n",
    "plt.xlim(max(z), min(z))\n",
    "plt.ylim(-0.03, 1.03)\n",
    "plt.ylabel(\"Electron Abundance, $x_e$\")\n",
    "plt.xlabel(\"Redshift, $z$\")\n",
    "plt.savefig(\"recomb.pdf\", bbox_inches = \"tight\")"
   ]
  },
  {
   "cell_type": "markdown",
   "id": "300abaec-06be-40d2-9c8c-74e47daa5142",
   "metadata": {},
   "source": [
    "By finding the point at which $x_e = 0.5$, we can estimate the redshift of recombination.  "
   ]
  },
  {
   "cell_type": "code",
   "execution_count": 7,
   "id": "1f026681-98f8-40b6-b238-9f868bc70bb4",
   "metadata": {},
   "outputs": [
    {
     "name": "stdout",
     "output_type": "stream",
     "text": [
      "Redshift: 1445\n",
      "Temp: 3.94e+03K\n"
     ]
    }
   ],
   "source": [
    "zre = min(z[x_e>0.5])\n",
    "print(\"Redshift: {}\".format(int(zre)))\n",
    "print(\"Temp: {:.3}K\".format(TkB(zre)/kB))"
   ]
  },
  {
   "cell_type": "code",
   "execution_count": null,
   "id": "a053e206-91c4-4f43-a32c-780299fca860",
   "metadata": {},
   "outputs": [],
   "source": []
  }
 ],
 "metadata": {
  "kernelspec": {
   "display_name": "Python 3",
   "language": "python",
   "name": "python3"
  },
  "language_info": {
   "codemirror_mode": {
    "name": "ipython",
    "version": 3
   },
   "file_extension": ".py",
   "mimetype": "text/x-python",
   "name": "python",
   "nbconvert_exporter": "python",
   "pygments_lexer": "ipython3",
   "version": "3.8.8"
  }
 },
 "nbformat": 4,
 "nbformat_minor": 5
}
